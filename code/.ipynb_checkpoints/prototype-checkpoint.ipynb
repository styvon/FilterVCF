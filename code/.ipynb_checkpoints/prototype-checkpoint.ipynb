{
 "cells": [
  {
   "cell_type": "code",
   "execution_count": 3,
   "metadata": {},
   "outputs": [],
   "source": [
    "import sys\n",
    "import os.path\n",
    "import itertools\n",
    "import gzip\n",
    "import os\n",
    "import re\n",
    "import glob"
   ]
  },
  {
   "cell_type": "markdown",
   "metadata": {},
   "source": [
    "## 1. Get header (variable name line) in vcf file"
   ]
  },
  {
   "cell_type": "code",
   "execution_count": 2,
   "metadata": {},
   "outputs": [],
   "source": [
    "def _getHeader(filename):\n",
    "    out = []\n",
    "    start = -1 # row id where seq data starts\n",
    "    with gzip.open(filename,'rt') as f:\n",
    "        for i, line in enumerate(f):\n",
    "            if line.startswith( '#CHROM' ):\n",
    "                out = str.split(line)\n",
    "                start = i\n",
    "                break           \n",
    "    return start, out"
   ]
  },
  {
   "cell_type": "code",
   "execution_count": 2,
   "metadata": {},
   "outputs": [
    {
     "name": "stdout",
     "output_type": "stream",
     "text": [
      "/Users/yvonne/Documents/postCampus/GoUS/17Fall/GSRA/BRIDGES/code\n"
     ]
    }
   ],
   "source": [
    "%%bash\n",
    "pwd"
   ]
  },
  {
   "cell_type": "code",
   "execution_count": null,
   "metadata": {},
   "outputs": [],
   "source": [
    "#t1, t2 = _getHeader('../data/sample_smaller.txt.gz')\n",
    "#t2"
   ]
  },
  {
   "cell_type": "markdown",
   "metadata": {},
   "source": [
    "## 2. getFilter: get effective sample ids from .ped file"
   ]
  },
  {
   "cell_type": "code",
   "execution_count": 3,
   "metadata": {},
   "outputs": [],
   "source": [
    "def _getFilter(filename):\n",
    "    out = ['#CHROM','POS','ID','REF','ALT','QUAL','FILTER','INFO','FORMAT']\n",
    "    with open(filename) as f:\n",
    "        for line in f:\n",
    "            if line.startswith( '#' ):\n",
    "                continue\n",
    "            else:\n",
    "                out.append(str.split(line)[0])\n",
    "    #filter.extend(('#CHROM','POS','ID','REF','ALT','QUAL','FILTER','INFO','FORMAT'))\n",
    "    return out\n",
    "                "
   ]
  },
  {
   "cell_type": "code",
   "execution_count": null,
   "metadata": {},
   "outputs": [],
   "source": [
    "#filter = _getFilter('../data/BRIDGES_Assoc.20160226.ped')"
   ]
  },
  {
   "cell_type": "code",
   "execution_count": null,
   "metadata": {},
   "outputs": [],
   "source": [
    "#len(filter) #= 3717 + 9 required\n",
    "#type(filter)"
   ]
  },
  {
   "cell_type": "markdown",
   "metadata": {},
   "source": [
    "## 3. Get column ids (of required vcf variables + of sample ids that exist in Filter) that will remain"
   ]
  },
  {
   "cell_type": "code",
   "execution_count": 4,
   "metadata": {},
   "outputs": [],
   "source": [
    "def _getColumnId(filename_d, filename_f):\n",
    "    start, header = _getHeader(filename_d)\n",
    "    filter = _getFilter(filename_f)\n",
    "\n",
    "    idx = []\n",
    "    \n",
    "    for i,var in enumerate(header):\n",
    "        if var in filter:\n",
    "            idx.append(i)\n",
    "\n",
    "    return start, idx\n",
    "    "
   ]
  },
  {
   "cell_type": "code",
   "execution_count": 7,
   "metadata": {},
   "outputs": [],
   "source": [
    "start, idx = _getColumnId('../data/sample_smaller.txt.gz', '../data/BRIDGES_Assoc.20160226.ped')"
   ]
  },
  {
   "cell_type": "code",
   "execution_count": 9,
   "metadata": {},
   "outputs": [
    {
     "ename": "TypeError",
     "evalue": "list indices must be integers or slices, not tuple",
     "output_type": "error",
     "traceback": [
      "\u001b[0;31m---------------------------------------------------------------------------\u001b[0m",
      "\u001b[0;31mTypeError\u001b[0m                                 Traceback (most recent call last)",
      "\u001b[0;32m<ipython-input-9-9dca30ffcc2e>\u001b[0m in \u001b[0;36m<module>\u001b[0;34m()\u001b[0m\n\u001b[0;32m----> 1\u001b[0;31m \u001b[0;34m[\u001b[0m\u001b[0;36m1\u001b[0m\u001b[0;34m,\u001b[0m\u001b[0;36m2\u001b[0m\u001b[0;34m,\u001b[0m\u001b[0;36m3\u001b[0m\u001b[0;34m,\u001b[0m\u001b[0;36m4\u001b[0m\u001b[0;34m,\u001b[0m\u001b[0;36m5\u001b[0m\u001b[0;34m]\u001b[0m\u001b[0;34m[\u001b[0m\u001b[0;36m0\u001b[0m\u001b[0;34m,\u001b[0m\u001b[0;36m1\u001b[0m\u001b[0;34m]\u001b[0m\u001b[0;34m\u001b[0m\u001b[0m\n\u001b[0m",
      "\u001b[0;31mTypeError\u001b[0m: list indices must be integers or slices, not tuple"
     ]
    }
   ],
   "source": []
  },
  {
   "cell_type": "markdown",
   "metadata": {},
   "source": [
    "## 4. Filter vcf file columns so that only sample ids existing in Filter remain"
   ]
  },
  {
   "cell_type": "code",
   "execution_count": 16,
   "metadata": {},
   "outputs": [],
   "source": [
    "def filterVCF(filename_d, filename_f, dir_output):\n",
    "    if not os.path.isfile(filename_d):\n",
    "        raise ValueError('{} is not a valid directory'.format(filename_d))\n",
    "    if not os.path.isfile(filename_f):\n",
    "        raise ValueError('{} is not a valid directory'.format(filename_f))\n",
    "\n",
    "    start, idx = _getColumnId(filename_d, filename_f)\n",
    "    \n",
    "    print('writing data to {}...'.format(dir_output))\n",
    "    if os.path.isdir(dir_output)==False:\n",
    "        raise ValueError('{} is not a directory'.format(dir_output))\n",
    "    if dir_output.endswith('/')==False:\n",
    "        dir_output = dir_output+'//'\n",
    "    \n",
    "    outfilename = 'filtered_'+str.split(filename_d,'/')[-1]\n",
    "    with gzip.open(filename_d,'rt') as i, gzip.open(dir_output+outfilename,'wt') as o:\n",
    "        for it, line in enumerate(i):\n",
    "            if it < start:\n",
    "                o.writelines(line + '\\n')\n",
    "                #o.write(line + '\\n')\n",
    "            else:\n",
    "                contents = []\n",
    "                for id in idx:\n",
    "                    contents.append(str.split(line)[id])\n",
    "                o.writelines('\\t'.join(str(c) for c in contents) + '\\n')\n",
    "                #o.writelines('\\t'.join(str(l) for l in str.split(line)[idx]) + '\\n')\n",
    "                #o.write('\\t'.join(str(l) for l in str.split(line)[idx]) + '\\n')\n",
    "\n",
    "    print('file created:{}{}'.format(dir_output,outfilename))\n",
    "    \n",
    "\n",
    "                \n",
    "            \n",
    "    "
   ]
  },
  {
   "cell_type": "code",
   "execution_count": 17,
   "metadata": {},
   "outputs": [
    {
     "name": "stdout",
     "output_type": "stream",
     "text": [
      "writing data to ../data/output...\n",
      "file created:../data/output//filtered_sample_smaller.txt.gz\n"
     ]
    }
   ],
   "source": [
    "filterVCF('../data/sample_smaller.txt.gz', '../data/BRIDGES_Assoc.20160226.ped', '../data/output')"
   ]
  },
  {
   "cell_type": "markdown",
   "metadata": {},
   "source": [
    "## 5. get file by regular expression"
   ]
  },
  {
   "cell_type": "code",
   "execution_count": 20,
   "metadata": {},
   "outputs": [
    {
     "name": "stdout",
     "output_type": "stream",
     "text": [
      "/Users/yvonne/Documents/postCampus/GoUS/17Fall/GSRA/BRIDGES/data/sample_smaller.bridges.chr10.SNPs+Indels.merged.vcf.gz\n"
     ]
    }
   ],
   "source": [
    "path = \"/Users/yvonne/Documents/postCampus/GoUS/17Fall/GSRA/BRIDGES/data/sample_smaller.bridges.chr*.SNPs+Indels.merged.vcf.gz\"\n",
    "for filename in glob.glob(path):\n",
    "    print(filename)\n",
    "\n"
   ]
  },
  {
   "cell_type": "code",
   "execution_count": null,
   "metadata": {},
   "outputs": [],
   "source": []
  }
 ],
 "metadata": {
  "kernelspec": {
   "display_name": "Python 3",
   "language": "python",
   "name": "python3"
  },
  "language_info": {
   "codemirror_mode": {
    "name": "ipython",
    "version": 3
   },
   "file_extension": ".py",
   "mimetype": "text/x-python",
   "name": "python",
   "nbconvert_exporter": "python",
   "pygments_lexer": "ipython3",
   "version": "3.6.2"
  }
 },
 "nbformat": 4,
 "nbformat_minor": 2
}
